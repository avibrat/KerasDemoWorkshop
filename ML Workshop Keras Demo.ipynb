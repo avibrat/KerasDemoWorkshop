{
 "cells": [
  {
   "cell_type": "markdown",
   "metadata": {},
   "source": [
    "# Fashion MNIST Keras Demo for ANN and CNN\n",
    "In this notebook, you will be working with a variation of the standard MNIST dataset, the Fashion MNIST :P\n",
    "The standard MNIST dataset is the digit recognition, which has a bunch of images of handwritten digits (0-9), and the goal is to train a classification model that will accurately recognize the digit given the image\n",
    "\n",
    "A popular demonstration of the capability of deep learning techniques is object recognition in image data.\n",
    "\n",
    "The “hello world” of object recognition for machine learning and deep learning is the MNIST dataset for handwritten digit recognition.\n",
    "\n",
    "In this post you will discover how to develop a deep learning model to achieve near state of the art performance on the MNIST handwritten digit recognition task in Python using the Keras deep learning library.\n",
    "\n",
    "After completing this tutorial, you will know:\n",
    "\n",
    "- How to load the MNIST dataset in Keras.\n",
    "- How to develop and evaluate a baseline neural network model for the MNIST problem.\n",
    "- How to implement and evaluate a simple Convolutional Neural Network for MNIST.\n",
    "- How to implement a close to state-of-the-art deep learning model for MNIST."
   ]
  },
  {
   "cell_type": "code",
   "execution_count": 78,
   "metadata": {
    "collapsed": false
   },
   "outputs": [
    {
     "data": {
      "image/png": "[encoded data removed]",
      "text/plain": [
       "<matplotlib.figure.Figure at 0x26909ad1860>"
      ]
     },
     "metadata": {},
     "output_type": "display_data"
    }
   ],
   "source": [
    "# Plot ad hoc mnist instances\n",
    "from keras.datasets import fashion_mnist\n",
    "import matplotlib.pyplot as plt\n",
    "%matplotlib inline\n",
    "# load (downloaded if needed) the MNIST dataset\n",
    "(X_train, y_train), (X_test, y_test) = fashion_mnist.load_data()\n",
    "# plot 4 images as gray scale\n",
    "plt.subplot(221)\n",
    "plt.imshow(X_train[0], cmap=plt.get_cmap('gray'))\n",
    "plt.subplot(222)\n",
    "plt.imshow(X_train[1], cmap=plt.get_cmap('gray'))\n",
    "plt.subplot(223)\n",
    "plt.imshow(X_train[2], cmap=plt.get_cmap('gray'))\n",
    "plt.subplot(224)\n",
    "plt.imshow(X_train[3], cmap=plt.get_cmap('gray'))\n",
    "# show the plot\n",
    "plt.show()"
   ]
  },
  {
   "cell_type": "code",
   "execution_count": 79,
   "metadata": {
    "collapsed": true
   },
   "outputs": [],
   "source": [
    "import numpy\n",
    "from keras.models import Sequential\n",
    "from keras.layers import Dense\n",
    "from keras.layers import Dropout\n",
    "from keras.utils import np_utils"
   ]
  },
  {
   "cell_type": "markdown",
   "metadata": {},
   "source": [
    "## Let's examine the shape of X and y"
   ]
  },
  {
   "cell_type": "code",
   "execution_count": 80,
   "metadata": {
    "collapsed": false
   },
   "outputs": [
    {
     "data": {
      "text/plain": [
       "(60000, 28, 28)"
      ]
     },
     "execution_count": 80,
     "metadata": {},
     "output_type": "execute_result"
    }
   ],
   "source": [
    "X_train.shape"
   ]
  },
  {
   "cell_type": "code",
   "execution_count": 81,
   "metadata": {
    "collapsed": false
   },
   "outputs": [
    {
     "data": {
      "text/plain": [
       "(60000,)"
      ]
     },
     "execution_count": 81,
     "metadata": {},
     "output_type": "execute_result"
    }
   ],
   "source": [
    "y_train.shape"
   ]
  },
  {
   "cell_type": "markdown",
   "metadata": {},
   "source": [
    "### A simple ANN can only take a linear array of features as input. Our image is a 28 * 28, so we reshape it to a single 1D array of 784 features using the ```numpy's reshape( )``` function"
   ]
  },
  {
   "cell_type": "code",
   "execution_count": 82,
   "metadata": {
    "collapsed": true
   },
   "outputs": [],
   "source": [
    "# flatten 28*28 images to a 784 vector for each image\n",
    "num_pixels = X_train.shape[1] * X_train.shape[2]\n",
    "X_train = X_train.reshape(X_train.shape[0], num_pixels).astype('float32')\n",
    "X_test = X_test.reshape(X_test.shape[0], num_pixels).astype('float32')"
   ]
  },
  {
   "cell_type": "code",
   "execution_count": 83,
   "metadata": {
    "collapsed": false
   },
   "outputs": [
    {
     "name": "stdout",
     "output_type": "stream",
     "text": [
      "Reshaped X_train shape: (60000, 784)\n",
      "Reshaped X_test shape: (10000, 784)\n",
      "y_train shape: (60000,)\n",
      "y_test shape: (10000,)\n"
     ]
    }
   ],
   "source": [
    "print(\"Reshaped X_train shape: \" + str(X_train.shape))\n",
    "print(\"Reshaped X_test shape: \" + str(X_test.shape))\n",
    "print(\"y_train shape: \" + str(y_train.shape))\n",
    "print(\"y_test shape: \" + str(y_test.shape))"
   ]
  },
  {
   "cell_type": "markdown",
   "metadata": {},
   "source": [
    "## In ML tasks, a common preprocessing step is to normalize the data. This involves scaling the data down, recentering, etc."
   ]
  },
  {
   "cell_type": "code",
   "execution_count": 84,
   "metadata": {
    "collapsed": true
   },
   "outputs": [],
   "source": [
    "# normalize inputs from 0-255 to 0-1\n",
    "X_train = X_train / 255\n",
    "X_test = X_test / 255"
   ]
  },
  {
   "cell_type": "markdown",
   "metadata": {},
   "source": [
    "## Before we can train the model, we need to convert the output labels into a one-hot encoded form. This is done in the following lines using the ```to_categorical( )``` function"
   ]
  },
  {
   "cell_type": "code",
   "execution_count": 85,
   "metadata": {
    "collapsed": true
   },
   "outputs": [],
   "source": [
    "# one hot encode outputs\n",
    "y_train = np_utils.to_categorical(y_train)\n",
    "y_test = np_utils.to_categorical(y_test)\n",
    "num_classes = y_test.shape[1]"
   ]
  },
  {
   "cell_type": "code",
   "execution_count": 86,
   "metadata": {
    "collapsed": false,
    "scrolled": true
   },
   "outputs": [
    {
     "name": "stdout",
     "output_type": "stream",
     "text": [
      "Shape of y_train after one hot encoding (60000, 10)\n",
      "Shape of y_test after one hot encoding (10000, 10)\n"
     ]
    }
   ],
   "source": [
    "print(\"Shape of y_train after one hot encoding \" + str(y_train.shape))\n",
    "print(\"Shape of y_test after one hot encoding \" + str(y_test.shape))"
   ]
  },
  {
   "cell_type": "markdown",
   "metadata": {},
   "source": [
    "## Baseline ANN model"
   ]
  },
  {
   "cell_type": "code",
   "execution_count": 87,
   "metadata": {
    "collapsed": true
   },
   "outputs": [],
   "source": [
    "# define baseline model\n",
    "def baseline_model():\n",
    "    # create model\n",
    "    model = Sequential()\n",
    "    model.add(Dense(num_pixels, input_dim=num_pixels, kernel_initializer='normal', activation='relu'))\n",
    "    model.add(Dense(num_classes, kernel_initializer='normal', activation='softmax'))\n",
    "    # Compile model\n",
    "    model.compile(loss='categorical_crossentropy', optimizer='adam', metrics=['accuracy'])\n",
    "    return model"
   ]
  },
  {
   "cell_type": "code",
   "execution_count": 90,
   "metadata": {
    "collapsed": false
   },
   "outputs": [
    {
     "name": "stdout",
     "output_type": "stream",
     "text": [
      "Train on 60000 samples, validate on 10000 samples\n",
      "Epoch 1/10\n",
      " - 10s - loss: 0.5149 - acc: 0.8200 - val_loss: 0.4308 - val_acc: 0.8481\n",
      "Epoch 2/10\n",
      " - 10s - loss: 0.3750 - acc: 0.8660 - val_loss: 0.3827 - val_acc: 0.8647\n",
      "Epoch 3/10\n",
      " - 12s - loss: 0.3325 - acc: 0.8800 - val_loss: 0.3796 - val_acc: 0.8616\n",
      "Epoch 4/10\n",
      " - 12s - loss: 0.3057 - acc: 0.8893 - val_loss: 0.3478 - val_acc: 0.8741\n",
      "Epoch 5/10\n",
      " - 10s - loss: 0.2891 - acc: 0.8933 - val_loss: 0.3514 - val_acc: 0.8740\n",
      "Epoch 6/10\n",
      " - 11s - loss: 0.2758 - acc: 0.8982 - val_loss: 0.3589 - val_acc: 0.8714\n",
      "Epoch 7/10\n",
      " - 10s - loss: 0.2573 - acc: 0.9046 - val_loss: 0.3312 - val_acc: 0.8796\n",
      "Epoch 8/10\n",
      " - 10s - loss: 0.2461 - acc: 0.9097 - val_loss: 0.3211 - val_acc: 0.8870\n",
      "Epoch 9/10\n",
      " - 10s - loss: 0.2350 - acc: 0.9133 - val_loss: 0.3170 - val_acc: 0.8893\n",
      "Epoch 10/10\n",
      " - 10s - loss: 0.2252 - acc: 0.9164 - val_loss: 0.3226 - val_acc: 0.8846\n",
      "Baseline Error: 11.54%\n"
     ]
    }
   ],
   "source": [
    "# build the model\n",
    "ann_model = baseline_model()\n",
    "# Fit the model\n",
    "ann_history = ann_model.fit(X_train, y_train, validation_data=(X_test, y_test), epochs=10, batch_size=200, verbose=2)\n",
    "# Final evaluation of the model\n",
    "scores = ann_model.evaluate(X_test, y_test, verbose=0)\n",
    "print(\"Baseline Error: %.2f%%\" % (100-scores[1]*100))"
   ]
  },
  {
   "cell_type": "markdown",
   "metadata": {},
   "source": [
    "# Simple CNN model for the Fashion-MNIST dataset"
   ]
  },
  {
   "cell_type": "code",
   "execution_count": 91,
   "metadata": {
    "collapsed": false
   },
   "outputs": [
    {
     "name": "stdout",
     "output_type": "stream",
     "text": [
      "X_train shape: (60000, 784)\n",
      "X_test shape: (10000, 784)\n"
     ]
    }
   ],
   "source": [
    "# load (downloaded if needed) the MNIST dataset\n",
    "# Note that earlier we reshaped the dataset of 28 x 28 images into a single linear array of 784 values\n",
    "# A CNN takes the raw images themselves as input, so we can feed a numpy array like (num_images, 28, 28) as input\n",
    "# Let's refresh what the shape of X_train and X_test were\n",
    "print(\"X_train shape: \" + str(X_train.shape))\n",
    "print(\"X_test shape: \" + str(X_test.shape))"
   ]
  },
  {
   "cell_type": "code",
   "execution_count": 92,
   "metadata": {
    "collapsed": true
   },
   "outputs": [],
   "source": [
    "X_train = X_train.reshape(X_train.shape[0],28,28,1)\n",
    "X_test = X_test.reshape(X_test.shape[0],28,28,1)"
   ]
  },
  {
   "cell_type": "code",
   "execution_count": 93,
   "metadata": {
    "collapsed": false
   },
   "outputs": [
    {
     "name": "stdout",
     "output_type": "stream",
     "text": [
      "Reshaped X_train shape for CNN training: (60000, 28, 28, 1)\n",
      "Reshaped X_test shape for CNN training: (10000, 28, 28, 1)\n"
     ]
    }
   ],
   "source": [
    "print(\"Reshaped X_train shape for CNN training: \" + str(X_train.shape))\n",
    "print(\"Reshaped X_test shape for CNN training: \" + str(X_test.shape))"
   ]
  },
  {
   "cell_type": "code",
   "execution_count": null,
   "metadata": {
    "collapsed": false
   },
   "outputs": [],
   "source": []
  },
  {
   "cell_type": "code",
   "execution_count": 94,
   "metadata": {
    "collapsed": true
   },
   "outputs": [],
   "source": [
    "from keras.layers import Dropout\n",
    "from keras.layers import Flatten\n",
    "from keras.layers.convolutional import Conv2D\n",
    "from keras.layers.convolutional import MaxPooling2D"
   ]
  },
  {
   "cell_type": "code",
   "execution_count": 95,
   "metadata": {
    "collapsed": true
   },
   "outputs": [],
   "source": [
    "def baseline_cnn_model():\n",
    "    # create model\n",
    "    model = Sequential()\n",
    "    model.add(Conv2D(32, (5, 5), input_shape=(28, 28,1), activation='relu'))\n",
    "    model.add(MaxPooling2D(pool_size=(2, 2)))\n",
    "    model.add(Dropout(0.2))\n",
    "    model.add(Flatten())\n",
    "    model.add(Dense(128, activation='relu'))\n",
    "    model.add(Dense(num_classes, activation='softmax'))\n",
    "    # Compile model\n",
    "    model.compile(loss='categorical_crossentropy', optimizer='adam', metrics=['accuracy'])\n",
    "    return model"
   ]
  },
  {
   "cell_type": "code",
   "execution_count": 96,
   "metadata": {
    "collapsed": false
   },
   "outputs": [
    {
     "name": "stdout",
     "output_type": "stream",
     "text": [
      "Train on 60000 samples, validate on 10000 samples\n",
      "Epoch 1/10\n",
      " - 54s - loss: 0.5168 - acc: 0.8190 - val_loss: 0.4038 - val_acc: 0.8576\n",
      "Epoch 2/10\n",
      " - 55s - loss: 0.3506 - acc: 0.8755 - val_loss: 0.3384 - val_acc: 0.8798\n",
      "Epoch 3/10\n",
      " - 59s - loss: 0.3116 - acc: 0.8891 - val_loss: 0.3217 - val_acc: 0.8831\n",
      "Epoch 4/10\n",
      " - 52s - loss: 0.2804 - acc: 0.8989 - val_loss: 0.3019 - val_acc: 0.8904\n",
      "Epoch 5/10\n",
      " - 53s - loss: 0.2622 - acc: 0.9047 - val_loss: 0.2902 - val_acc: 0.8932\n",
      "Epoch 6/10\n",
      " - 52s - loss: 0.2429 - acc: 0.9117 - val_loss: 0.2789 - val_acc: 0.8984\n",
      "Epoch 7/10\n",
      " - 54s - loss: 0.2274 - acc: 0.9164 - val_loss: 0.2642 - val_acc: 0.9047\n",
      "Epoch 8/10\n",
      " - 52s - loss: 0.2146 - acc: 0.9220 - val_loss: 0.2894 - val_acc: 0.8960\n",
      "Epoch 9/10\n",
      " - 64s - loss: 0.2001 - acc: 0.9255 - val_loss: 0.2504 - val_acc: 0.9098\n",
      "Epoch 10/10\n",
      " - 57s - loss: 0.1917 - acc: 0.9291 - val_loss: 0.2496 - val_acc: 0.9077\n",
      "CNN Error: 9.23%\n"
     ]
    }
   ],
   "source": [
    "# build the model\n",
    "cnn_model = baseline_cnn_model()\n",
    "# Fit the model\n",
    "cnn_history = cnn_model.fit(X_train, y_train, validation_data=(X_test, y_test), epochs=10, batch_size=200, verbose=2)\n",
    "# Final evaluation of the model\n",
    "scores = cnn_model.evaluate(X_test, y_test, verbose=0)\n",
    "print(\"CNN Error: %.2f%%\" % (100-scores[1]*100))"
   ]
  },
  {
   "cell_type": "code",
   "execution_count": 97,
   "metadata": {
    "collapsed": false
   },
   "outputs": [],
   "source": [
    "fashion_mnist_classes = numpy.array([\"T-shirt/top\",\"Trouser\",\"Pullover\",\"Dress\",\"Coat\",\"Sandal\",\"Shirt\",\"Sneaker\",\"Bag\",\"Ankle boot\"])"
   ]
  },
  {
   "cell_type": "markdown",
   "metadata": {},
   "source": [
    "# We plot the train & val accuracy against the number of epochs\n",
    "Keras conveniently stores these in an object of type History, which is returned whenever the ```fit``` function is called on a model"
   ]
  },
  {
   "cell_type": "code",
   "execution_count": 98,
   "metadata": {
    "collapsed": false
   },
   "outputs": [
    {
     "data": {
      "text/plain": [
       "<matplotlib.legend.Legend at 0x26900416390>"
      ]
     },
     "execution_count": 98,
     "metadata": {},
     "output_type": "execute_result"
    },
    {
     "data": {
      "image/png": "[encoded data removed]",
      "text/plain": [
       "<matplotlib.figure.Figure at 0x2690d7ed048>"
      ]
     },
     "metadata": {},
     "output_type": "display_data"
    }
   ],
   "source": [
    "plt.plot(ann_history.history['acc'])\n",
    "plt.plot(ann_history.history['val_acc'])\n",
    "plt.xlabel(\"num_epochs\")\n",
    "plt.ylabel(\"accuracy\")\n",
    "plt.legend([\"train_acc\",\"val_acc\"])"
   ]
  },
  {
   "cell_type": "code",
   "execution_count": 99,
   "metadata": {
    "collapsed": false
   },
   "outputs": [
    {
     "data": {
      "text/plain": [
       "<matplotlib.legend.Legend at 0x2690b2c19b0>"
      ]
     },
     "execution_count": 99,
     "metadata": {},
     "output_type": "execute_result"
    },
    {
     "data": {
      "image/png": "[encoded data removed]",
      "text/plain": [
       "<matplotlib.figure.Figure at 0x269003f67f0>"
      ]
     },
     "metadata": {},
     "output_type": "display_data"
    }
   ],
   "source": [
    "plt.plot(cnn_history.history['acc'])\n",
    "plt.plot(cnn_history.history['val_acc'])\n",
    "plt.xlabel(\"num_epochs\")\n",
    "plt.ylabel(\"accuracy\")\n",
    "plt.legend([\"train_acc\",\"val_acc\"])"
   ]
  },
  {
   "cell_type": "markdown",
   "metadata": {},
   "source": [
    "### Note that what matters always is the validation accuracy. The validation accuracy tells us how the model performs on unseen data, i.e: data that has not been used during training. The CNN model has a decently better validation accuracy, as expected"
   ]
  },
  {
   "cell_type": "markdown",
   "metadata": {},
   "source": [
    "## Predictions: Let's look at some actual instances in the test set and see what the model predicts"
   ]
  },
  {
   "cell_type": "code",
   "execution_count": 101,
   "metadata": {
    "collapsed": true
   },
   "outputs": [],
   "source": [
    "def get_predictions(model,X):\n",
    "    predictions = model.predict(X)\n",
    "    class_indices = numpy.argmax(predictions,axis=1)\n",
    "    return fashion_mnist_classes[class_indices]"
   ]
  },
  {
   "cell_type": "code",
   "execution_count": 102,
   "metadata": {
    "collapsed": true
   },
   "outputs": [],
   "source": [
    "predicted_labels_ann = get_predictions(ann_model,X_test.reshape(X_test.shape[0],28*28))"
   ]
  },
  {
   "cell_type": "code",
   "execution_count": 104,
   "metadata": {
    "collapsed": false
   },
   "outputs": [],
   "source": [
    "predicted_labels_cnn = get_predictions(cnn_model,X_test.reshape(X_test.shape[0],28,28,1))"
   ]
  },
  {
   "cell_type": "code",
   "execution_count": 109,
   "metadata": {
    "collapsed": false
   },
   "outputs": [],
   "source": [
    "def examine_prediction(index):\n",
    "    plt.imshow(X_test[index].reshape(28,28),cmap=plt.get_cmap('gray'))\n",
    "    print(\"Predicted class from ANN: \" + predicted_labels_ann[index])\n",
    "    print(\"Predicted class from CNN: \" + predicted_labels_cnn[index])"
   ]
  },
  {
   "cell_type": "code",
   "execution_count": 112,
   "metadata": {
    "collapsed": false
   },
   "outputs": [
    {
     "name": "stdout",
     "output_type": "stream",
     "text": [
      "Predicted class from ANN: Ankle boot\n",
      "Predicted class from CNN: Ankle boot\n"
     ]
    },
    {
     "data": {
      "image/png": "[encoded data removed]",
      "text/plain": [
       "<matplotlib.figure.Figure at 0x2691ba5e550>"
      ]
     },
     "metadata": {},
     "output_type": "display_data"
    }
   ],
   "source": [
    "examine_prediction(0)"
   ]
  },
  {
   "cell_type": "code",
   "execution_count": 113,
   "metadata": {
    "collapsed": false
   },
   "outputs": [
    {
     "name": "stdout",
     "output_type": "stream",
     "text": [
      "Predicted class from ANN: Ankle boot\n",
      "Predicted class from CNN: Ankle boot\n"
     ]
    },
    {
     "data": {
      "image/png": "[encoded data removed]",
      "text/plain": [
       "<matplotlib.figure.Figure at 0x2691ba7dd68>"
      ]
     },
     "metadata": {},
     "output_type": "display_data"
    }
   ],
   "source": [
    "examine_prediction(123)"
   ]
  },
  {
   "cell_type": "code",
   "execution_count": 114,
   "metadata": {
    "collapsed": false
   },
   "outputs": [
    {
     "name": "stdout",
     "output_type": "stream",
     "text": [
      "Predicted class from ANN: Bag\n",
      "Predicted class from CNN: Bag\n"
     ]
    },
    {
     "data": {
      "image/png": "[encoded data removed]",
      "text/plain": [
       "<matplotlib.figure.Figure at 0x2691ba8d4a8>"
      ]
     },
     "metadata": {},
     "output_type": "display_data"
    }
   ],
   "source": [
    "examine_prediction(1521)"
   ]
  },
  {
   "cell_type": "code",
   "execution_count": 115,
   "metadata": {
    "collapsed": false
   },
   "outputs": [
    {
     "name": "stdout",
     "output_type": "stream",
     "text": [
      "Predicted class from ANN: Trouser\n",
      "Predicted class from CNN: Trouser\n"
     ]
    },
    {
     "data": {
      "image/png": "[encoded data removed]",
      "text/plain": [
       "<matplotlib.figure.Figure at 0x2691ba92588>"
      ]
     },
     "metadata": {},
     "output_type": "display_data"
    }
   ],
   "source": [
    "examine_prediction(140)"
   ]
  },
  {
   "cell_type": "code",
   "execution_count": 116,
   "metadata": {
    "collapsed": false
   },
   "outputs": [
    {
     "name": "stdout",
     "output_type": "stream",
     "text": [
      "Predicted class from ANN: Dress\n",
      "Predicted class from CNN: Dress\n"
     ]
    },
    {
     "data": {
      "image/png": "[encoded data removed]",
      "text/plain": [
       "<matplotlib.figure.Figure at 0x2691ba8dd68>"
      ]
     },
     "metadata": {},
     "output_type": "display_data"
    }
   ],
   "source": [
    "examine_prediction(1102)"
   ]
  },
  {
   "cell_type": "markdown",
   "metadata": {},
   "source": [
    "# Exercise Task\n",
    "Find the indices of the test set, which are misclassified by the CNN model...\n",
    "There are obviously certain images for which the CNN model does not predict the correct class label. Your task is to find these indices.\n",
    "To demonstrate your output, print the image, the original class label, and the predicted class label, and show that ```original``` $!=$ ```predicted```"
   ]
  },
  {
   "cell_type": "code",
   "execution_count": null,
   "metadata": {
    "collapsed": true
   },
   "outputs": [],
   "source": []
  },
  {
   "cell_type": "code",
   "execution_count": null,
   "metadata": {
    "collapsed": true
   },
   "outputs": [],
   "source": []
  },
  {
   "cell_type": "code",
   "execution_count": null,
   "metadata": {
    "collapsed": true
   },
   "outputs": [],
   "source": []
  },
  {
   "cell_type": "code",
   "execution_count": null,
   "metadata": {
    "collapsed": true
   },
   "outputs": [],
   "source": []
  },
  {
   "cell_type": "code",
   "execution_count": null,
   "metadata": {
    "collapsed": true
   },
   "outputs": [],
   "source": []
  },
  {
   "cell_type": "code",
   "execution_count": null,
   "metadata": {
    "collapsed": true
   },
   "outputs": [],
   "source": []
  },
  {
   "cell_type": "code",
   "execution_count": null,
   "metadata": {
    "collapsed": true
   },
   "outputs": [],
   "source": []
  },
  {
   "cell_type": "code",
   "execution_count": null,
   "metadata": {
    "collapsed": true
   },
   "outputs": [],
   "source": []
  },
  {
   "cell_type": "code",
   "execution_count": 119,
   "metadata": {
    "collapsed": false
   },
   "outputs": [],
   "source": [
    "original_labels = fashion_mnist_classes[numpy.load('y_test.npy')]"
   ]
  },
  {
   "cell_type": "code",
   "execution_count": 120,
   "metadata": {
    "collapsed": true
   },
   "outputs": [],
   "source": [
    "misclassified_indices = []\n",
    "for i in range(len(original_labels)):\n",
    "    if original_labels[i] != predicted_labels_cnn[i]:\n",
    "        misclassified_indices.append(i)"
   ]
  },
  {
   "cell_type": "code",
   "execution_count": 122,
   "metadata": {
    "collapsed": false
   },
   "outputs": [
    {
     "name": "stdout",
     "output_type": "stream",
     "text": [
      "Original label: Sneaker\n",
      "CNN label: Bag\n"
     ]
    },
    {
     "data": {
      "image/png": "[encoded data removed]",
      "text/plain": [
       "<matplotlib.figure.Figure at 0x2691bb66c18>"
      ]
     },
     "metadata": {},
     "output_type": "display_data"
    }
   ],
   "source": [
    "plt.imshow(X_test[misclassified_indices[0]].reshape(28,28))\n",
    "print(\"Original label: %s\" % original_labels[misclassified_indices[0]])\n",
    "print(\"CNN label: %s\" % predicted_labels_cnn[misclassified_indices[0]])"
   ]
  },
  {
   "cell_type": "code",
   "execution_count": 123,
   "metadata": {
    "collapsed": false
   },
   "outputs": [
    {
     "name": "stdout",
     "output_type": "stream",
     "text": [
      "Original label: Dress\n",
      "CNN label: Shirt\n"
     ]
    },
    {
     "data": {
      "image/png": "[encoded data removed]",
      "text/plain": [
       "<matplotlib.figure.Figure at 0x2691bb986a0>"
      ]
     },
     "metadata": {},
     "output_type": "display_data"
    }
   ],
   "source": [
    "plt.imshow(X_test[misclassified_indices[5]].reshape(28,28))\n",
    "print(\"Original label: %s\" % original_labels[misclassified_indices[5]])\n",
    "print(\"CNN label: %s\" % predicted_labels_cnn[misclassified_indices[5]])"
   ]
  },
  {
   "cell_type": "code",
   "execution_count": 124,
   "metadata": {
    "collapsed": false
   },
   "outputs": [
    {
     "data": {
      "text/plain": [
       "923"
      ]
     },
     "execution_count": 124,
     "metadata": {},
     "output_type": "execute_result"
    }
   ],
   "source": [
    "len(misclassified_indices)"
   ]
  },
  {
   "cell_type": "markdown",
   "metadata": {},
   "source": [
    "### This means that 923 of the images in the test set were labelled wrong by our CNN model. The test set, remember, had a total of 10000 images"
   ]
  },
  {
   "cell_type": "code",
   "execution_count": 146,
   "metadata": {
    "collapsed": false,
    "scrolled": true
   },
   "outputs": [
    {
     "name": "stdout",
     "output_type": "stream",
     "text": [
      "Ratio of test images misclassified: 9.230%\n",
      "Ratio of test images correctly classified: 90.770%\n"
     ]
    }
   ],
   "source": [
    "ratio_misclassified = len(misclassified_indices)/len(original_labels)\n",
    "print(\"Ratio of test images misclassified: %.3f%%\" % (ratio_misclassified*100))\n",
    "print(\"Ratio of test images correctly classified: %.3f%%\" % ((1 - ratio_misclassified)*100))"
   ]
  },
  {
   "cell_type": "markdown",
   "metadata": {},
   "source": [
    "# Note that in doing this task you just verified that the accuracy of the model on the test set, is in fact 90.77% !\n",
    "Scroll up to the the line where you trained the CNN model and check the validation accuracy reported on the final epoch!"
   ]
  },
  {
   "cell_type": "code",
   "execution_count": null,
   "metadata": {
    "collapsed": true
   },
   "outputs": [],
   "source": []
  }
 ],
 "metadata": {
  "kernelspec": {
   "display_name": "Python 3",
   "language": "python",
   "name": "python3"
  },
  "language_info": {
   "codemirror_mode": {
    "name": "ipython",
    "version": 3
   },
   "file_extension": ".py",
   "mimetype": "text/x-python",
   "name": "python",
   "nbconvert_exporter": "python",
   "pygments_lexer": "ipython3",
   "version": "3.5.4"
  }
 },
 "nbformat": 4,
 "nbformat_minor": 0
}
